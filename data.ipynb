{
 "cells": [
  {
   "cell_type": "code",
   "execution_count": 1,
   "metadata": {},
   "outputs": [],
   "source": [
    "import pandas as pd\n",
    "import csv"
   ]
  },
  {
   "cell_type": "code",
   "execution_count": 2,
   "metadata": {},
   "outputs": [
    {
     "name": "stderr",
     "output_type": "stream",
     "text": [
      "/home/esh/.local/lib/python3.8/site-packages/IPython/core/interactiveshell.py:3169: DtypeWarning: Columns (7) have mixed types.Specify dtype option on import or set low_memory=False.\n",
      "  has_raised = await self.run_ast_nodes(code_ast.body, cell_name,\n"
     ]
    }
   ],
   "source": [
    "chunksize = 100000\n",
    "\n",
    "list_of_dataframes = []\n",
    "\n",
    "for df in pd.read_csv('./data/main.tsv', sep='\\t', chunksize=chunksize):\n",
    "    df1 = df[(df['language'] == 'hi') | (df['language'] == 'en')]\n",
    "    list_of_dataframes.append(df1[['titleId','title','language']])\n",
    "\n",
    "main = pd.concat(list_of_dataframes)\n",
    "main.to_csv('./data/new/main.csv')"
   ]
  },
  {
   "cell_type": "code",
   "execution_count": 3,
   "metadata": {},
   "outputs": [
    {
     "name": "stderr",
     "output_type": "stream",
     "text": [
      "/home/esh/.local/lib/python3.8/site-packages/IPython/core/interactiveshell.py:3169: DtypeWarning: Columns (5) have mixed types.Specify dtype option on import or set low_memory=False.\n",
      "  has_raised = await self.run_ast_nodes(code_ast.body, cell_name,\n",
      "/home/esh/.local/lib/python3.8/site-packages/IPython/core/interactiveshell.py:3169: DtypeWarning: Columns (4) have mixed types.Specify dtype option on import or set low_memory=False.\n",
      "  has_raised = await self.run_ast_nodes(code_ast.body, cell_name,\n"
     ]
    }
   ],
   "source": [
    "chunksize = 100000\n",
    "\n",
    "list_of_dataframes = []\n",
    "\n",
    "for df in pd.read_csv('./data/secondary.tsv', sep='\\t', chunksize=chunksize):\n",
    "    df1 = df[df['titleType'] == 'movie']\n",
    "    list_of_dataframes.append(df1[['tconst','isAdult','genres']])\n",
    "\n",
    "sec = pd.concat(list_of_dataframes)\n",
    "sec.to_csv('./data/new/secondary.csv')"
   ]
  },
  {
   "cell_type": "code",
   "execution_count": 5,
   "metadata": {},
   "outputs": [],
   "source": [
    "main=pd.read_csv('./data/new/main.csv')\n",
    "sec=pd.read_csv('./data/new/secondary.csv')"
   ]
  },
  {
   "cell_type": "code",
   "execution_count": 6,
   "metadata": {},
   "outputs": [],
   "source": [
    "final=pd.merge(main,sec,how='inner',\n",
    "               left_on=['titleId'],\n",
    "               right_on=['tconst'])"
   ]
  },
  {
   "cell_type": "code",
   "execution_count": 7,
   "metadata": {},
   "outputs": [],
   "source": [
    "directors = pd.read_csv('./data/directors.tsv', sep='\\t')"
   ]
  },
  {
   "cell_type": "code",
   "execution_count": null,
   "metadata": {},
   "outputs": [],
   "source": [
    "final=pd.merge(final,directors,how='left',\n",
    "               left_on=['titleId'],\n",
    "               right_on=['tconst'])"
   ]
  },
  {
   "cell_type": "code",
   "execution_count": null,
   "metadata": {},
   "outputs": [],
   "source": [
    "ratings = pd.read_csv('./data/rating.tsv', sep='\\t')\n",
    "final=pd.merge(final,ratings,how='left',\n",
    "               left_on=['titleId'],\n",
    "               right_on=['tconst'])"
   ]
  },
  {
   "cell_type": "code",
   "execution_count": 2,
   "metadata": {},
   "outputs": [],
   "source": [
    "chunksize = 100000\n",
    "\n",
    "list_of_dataframes = []\n",
    "\n",
    "for df in pd.read_csv('./data/crew.tsv', sep='\\t', chunksize=chunksize):\n",
    "    df1 = df[(df['category'] == 'actor') | (df['category'] == 'actress')]\n",
    "    list_of_dataframes.append(df1[['tconst','nconst']])\n",
    "\n",
    "crew = pd.concat(list_of_dataframes)\n",
    "crew.to_csv('./data/new/crew.csv')"
   ]
  },
  {
   "cell_type": "code",
   "execution_count": null,
   "metadata": {},
   "outputs": [],
   "source": [
    "crew = pd.read_csv('./data/new/crew.csv')"
   ]
  },
  {
   "cell_type": "code",
   "execution_count": 3,
   "metadata": {},
   "outputs": [],
   "source": [
    "actor_new = crew.groupby('tconst')['nconst'].apply(list)\n",
    "actor_new.to_csv('./data/new/actor.csv')"
   ]
  },
  {
   "cell_type": "code",
   "execution_count": null,
   "metadata": {},
   "outputs": [],
   "source": [
    "actor=pd.read_csv('./data/new/actor.csv')"
   ]
  },
  {
   "cell_type": "code",
   "execution_count": null,
   "metadata": {},
   "outputs": [],
   "source": [
    "final=pd.merge(final,actor,how='left',\n",
    "               left_on=['titleId'],\n",
    "               right_on=['tconst'])"
   ]
  },
  {
   "cell_type": "code",
   "execution_count": null,
   "metadata": {},
   "outputs": [],
   "source": [
    "df=final[['titleId', 'title','language','isAdult','genres','directors','writers','nconst','averageRating','numVotes']]"
   ]
  },
  {
   "cell_type": "code",
   "execution_count": null,
   "metadata": {},
   "outputs": [],
   "source": [
    "df\n"
   ]
  },
  {
   "cell_type": "code",
   "execution_count": null,
   "metadata": {},
   "outputs": [],
   "source": [
    "df.to_csv(\"./data/data.csv\")"
   ]
  },
  {
   "cell_type": "code",
   "execution_count": null,
   "metadata": {},
   "outputs": [],
   "source": []
  }
 ],
 "metadata": {
  "interpreter": {
   "hash": "31f2aee4e71d21fbe5cf8b01ff0e069b9275f58929596ceb00d14d90e3e16cd6"
  },
  "kernelspec": {
   "display_name": "Python 3",
   "language": "python",
   "name": "python3"
  },
  "language_info": {
   "codemirror_mode": {
    "name": "ipython",
    "version": 3
   },
   "file_extension": ".py",
   "mimetype": "text/x-python",
   "name": "python",
   "nbconvert_exporter": "python",
   "pygments_lexer": "ipython3",
   "version": "3.8.10"
  }
 },
 "nbformat": 4,
 "nbformat_minor": 2
}
